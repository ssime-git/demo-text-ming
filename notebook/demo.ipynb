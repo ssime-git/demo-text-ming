{
 "cells": [
  {
   "cell_type": "code",
   "execution_count": 1,
   "metadata": {},
   "outputs": [
    {
     "name": "stderr",
     "output_type": "stream",
     "text": [
      "[nltk_data] Downloading package punkt to /home/codespace/nltk_data...\n",
      "[nltk_data]   Package punkt is already up-to-date!\n",
      "[nltk_data] Downloading package stopwords to\n",
      "[nltk_data]     /home/codespace/nltk_data...\n",
      "[nltk_data]   Package stopwords is already up-to-date!\n",
      "[nltk_data] Downloading package wordnet to\n",
      "[nltk_data]     /home/codespace/nltk_data...\n",
      "[nltk_data]   Package wordnet is already up-to-date!\n"
     ]
    }
   ],
   "source": [
    "import nltk\n",
    "nltk.download('punkt')\n",
    "nltk.download('stopwords')\n",
    "nltk.download('wordnet')\n",
    "from nltk.corpus import stopwords\n",
    "from nltk.tokenize import word_tokenize\n",
    "from nltk.stem import WordNetLemmatizer\n",
    "from sklearn.feature_extraction.text import CountVectorizer"
   ]
  },
  {
   "cell_type": "code",
   "execution_count": 4,
   "metadata": {},
   "outputs": [],
   "source": [
    "# Étape de prétraitement des données\n",
    "def preprocess(text):\n",
    "    # Supprimer la ponctuation et les chiffres\n",
    "    text = ''.join([c for c in text if c.isalpha() or c.isspace()])\n",
    "\n",
    "    # Mettre en minuscules\n",
    "    text = text.lower()\n",
    "\n",
    "    # Tokenization\n",
    "    tokens = word_tokenize(text)\n",
    "\n",
    "    # Supprimer les stopwords\n",
    "    stop_words = set(stopwords.words('english'))\n",
    "    filtered_tokens = [token for token in tokens if token not in stop_words]\n",
    "\n",
    "    # Lemmatization\n",
    "    lemmatizer = WordNetLemmatizer()\n",
    "    lemmatized_tokens = [lemmatizer.lemmatize(token) for token in filtered_tokens]\n",
    "\n",
    "    # Rejoindre les tokens en une seule chaîne de texte\n",
    "    preprocessed_text = ' '.join(lemmatized_tokens)\n",
    "\n",
    "    return preprocessed_text\n",
    "\n",
    "# Étape de représentation des données\n",
    "def represent(texts):\n",
    "    vectorizer = CountVectorizer()\n",
    "    X = vectorizer.fit_transform(texts)\n",
    "    feature_names = vectorizer.get_feature_names_out()\n",
    "\n",
    "    return X, feature_names"
   ]
  },
  {
   "cell_type": "code",
   "execution_count": 5,
   "metadata": {},
   "outputs": [
    {
     "name": "stdout",
     "output_type": "stream",
     "text": [
      "Textes d'origine :\n",
      "-  Text mining is the process of extracting useful information from unstructured text data.\n",
      "-  The preprocessing step involves cleaning and preparing the text for analysis.\n",
      "-  Representation of the data is important to make it suitable for machine learning algorithms.\n",
      "\n",
      "Textes prétraités :\n",
      "-  text mining process extracting useful information unstructured text data\n",
      "-  preprocessing step involves cleaning preparing text analysis\n",
      "-  representation data important make suitable machine learning algorithm\n",
      "\n",
      "Matrice de termes :\n",
      "[[0 0 0 1 1 0 1 0 0 0 0 1 0 0 1 0 0 0 2 1 1]\n",
      " [0 1 1 0 0 0 0 1 0 0 0 0 1 1 0 0 1 0 1 0 0]\n",
      " [1 0 0 1 0 1 0 0 1 1 1 0 0 0 0 1 0 1 0 0 0]]\n",
      "\n",
      "Liste des termes :\n",
      "['algorithm' 'analysis' 'cleaning' 'data' 'extracting' 'important'\n",
      " 'information' 'involves' 'learning' 'machine' 'make' 'mining' 'preparing'\n",
      " 'preprocessing' 'process' 'representation' 'step' 'suitable' 'text'\n",
      " 'unstructured' 'useful']\n"
     ]
    }
   ],
   "source": [
    "# Textes d'exemple\n",
    "texts = [\n",
    "    \"Text mining is the process of extracting useful information from unstructured text data.\",\n",
    "    \"The preprocessing step involves cleaning and preparing the text for analysis.\",\n",
    "    \"Representation of the data is important to make it suitable for machine learning algorithms.\",\n",
    "]\n",
    "\n",
    "# Prétraitement des textes\n",
    "preprocessed_texts = [preprocess(text) for text in texts]\n",
    "\n",
    "# Représentation des données\n",
    "X, feature_names = represent(preprocessed_texts)\n",
    "\n",
    "# Affichage des résultats\n",
    "print(\"Textes d'origine :\")\n",
    "for text in texts:\n",
    "    print(\"- \", text)\n",
    "print(\"\\nTextes prétraités :\")\n",
    "for text in preprocessed_texts:\n",
    "    print(\"- \", text)\n",
    "print(\"\\nMatrice de termes :\")\n",
    "print(X.toarray())\n",
    "print(\"\\nListe des termes :\")\n",
    "print(feature_names)"
   ]
  }
 ],
 "metadata": {
  "kernelspec": {
   "display_name": "Python 3",
   "language": "python",
   "name": "python3"
  },
  "language_info": {
   "codemirror_mode": {
    "name": "ipython",
    "version": 3
   },
   "file_extension": ".py",
   "mimetype": "text/x-python",
   "name": "python",
   "nbconvert_exporter": "python",
   "pygments_lexer": "ipython3",
   "version": "3.10.8"
  },
  "orig_nbformat": 4
 },
 "nbformat": 4,
 "nbformat_minor": 2
}
