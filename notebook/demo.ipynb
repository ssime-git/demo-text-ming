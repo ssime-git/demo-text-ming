{
 "cells": [
  {
   "cell_type": "code",
   "execution_count": null,
   "metadata": {},
   "outputs": [],
   "source": [
    "import nltk\n",
    "from nltk.corpus import stopwords\n",
    "from nltk.tokenize import word_tokenize\n",
    "from nltk.stem import WordNetLemmatizer\n",
    "from sklearn.feature_extraction.text import CountVectorizer"
   ]
  },
  {
   "cell_type": "code",
   "execution_count": null,
   "metadata": {},
   "outputs": [],
   "source": [
    "# Étape de prétraitement des données\n",
    "def preprocess(text):\n",
    "    # Supprimer la ponctuation et les chiffres\n",
    "    text = ''.join([c for c in text if c.isalpha() or c.isspace()])\n",
    "\n",
    "    # Mettre en minuscules\n",
    "    text = text.lower()\n",
    "\n",
    "    # Tokenization\n",
    "    tokens = word_tokenize(text)\n",
    "\n",
    "    # Supprimer les stopwords\n",
    "    stop_words = set(stopwords.words('english'))\n",
    "    filtered_tokens = [token for token in tokens if token not in stop_words]\n",
    "\n",
    "    # Lemmatization\n",
    "    lemmatizer = WordNetLemmatizer()\n",
    "    lemmatized_tokens = [lemmatizer.lemmatize(token) for token in filtered_tokens]\n",
    "\n",
    "    # Rejoindre les tokens en une seule chaîne de texte\n",
    "    preprocessed_text = ' '.join(lemmatized_tokens)\n",
    "\n",
    "    return preprocessed_text\n",
    "\n",
    "# Étape de représentation des données\n",
    "def represent(texts):\n",
    "    vectorizer = CountVectorizer()\n",
    "    X = vectorizer.fit_transform(texts)\n",
    "    feature_names = vectorizer.get_feature_names()\n",
    "\n",
    "    return X, feature_names"
   ]
  },
  {
   "cell_type": "code",
   "execution_count": null,
   "metadata": {},
   "outputs": [],
   "source": [
    "# Textes d'exemple\n",
    "texts = [\n",
    "    \"Text mining is the process of extracting useful information from unstructured text data.\",\n",
    "    \"The preprocessing step involves cleaning and preparing the text for analysis.\",\n",
    "    \"Representation of the data is important to make it suitable for machine learning algorithms.\",\n",
    "]\n",
    "\n",
    "# Prétraitement des textes\n",
    "preprocessed_texts = [preprocess(text) for text in texts]\n",
    "\n",
    "# Représentation des données\n",
    "X, feature_names = represent(preprocessed_texts)\n",
    "\n",
    "# Affichage des résultats\n",
    "print(\"Textes d'origine :\")\n",
    "for text in texts:\n",
    "    print(\"- \", text)\n",
    "print(\"\\nTextes prétraités :\")\n",
    "for text in preprocessed_texts:\n",
    "    print(\"- \", text)\n",
    "print(\"\\nMatrice de termes :\")\n",
    "print(X.toarray())\n",
    "print(\"\\nListe des termes :\")\n",
    "print(feature_names)"
   ]
  }
 ],
 "metadata": {
  "language_info": {
   "name": "python"
  },
  "orig_nbformat": 4
 },
 "nbformat": 4,
 "nbformat_minor": 2
}
